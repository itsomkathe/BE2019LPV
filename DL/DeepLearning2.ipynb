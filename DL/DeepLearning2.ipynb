{
  "cells": [
    {
      "cell_type": "code",
      "execution_count": 1,
      "id": "76e4a89d",
      "metadata": {
        "execution": {
          "iopub.execute_input": "2022-11-28T21:10:38.002030Z",
          "iopub.status.busy": "2022-11-28T21:10:38.001476Z",
          "iopub.status.idle": "2022-11-28T21:10:50.136618Z",
          "shell.execute_reply": "2022-11-28T21:10:50.135035Z"
        },
        "papermill": {
          "duration": 12.148864,
          "end_time": "2022-11-28T21:10:50.141119",
          "exception": false,
          "start_time": "2022-11-28T21:10:37.992255",
          "status": "completed"
        },
        "tags": [],
        "id": "76e4a89d",
        "colab": {
          "base_uri": "https://localhost:8080/"
        },
        "outputId": "a4e9760f-9288-4e5b-a9e2-85a2485e7d63"
      },
      "outputs": [
        {
          "output_type": "stream",
          "name": "stdout",
          "text": [
            "Downloading data from https://storage.googleapis.com/tensorflow/tf-keras-datasets/imdb.npz\n",
            "17464789/17464789 [==============================] - 0s 0us/step\n"
          ]
        }
      ],
      "source": [
        "from tensorflow.keras.datasets import imdb\n",
        "\n",
        "# Load the data, keeping only 10,000 of the most frequently occuring words\n",
        "(train_data, train_labels), (test_data, test_labels) = imdb.load_data(num_words = 10000)"
      ]
    },
    {
      "cell_type": "code",
      "execution_count": 2,
      "id": "f6ae25e2",
      "metadata": {
        "execution": {
          "iopub.execute_input": "2022-11-28T21:10:50.175826Z",
          "iopub.status.busy": "2022-11-28T21:10:50.175018Z",
          "iopub.status.idle": "2022-11-28T21:10:50.188391Z",
          "shell.execute_reply": "2022-11-28T21:10:50.187341Z"
        },
        "papermill": {
          "duration": 0.026531,
          "end_time": "2022-11-28T21:10:50.192457",
          "exception": false,
          "start_time": "2022-11-28T21:10:50.165926",
          "status": "completed"
        },
        "tags": [],
        "colab": {
          "base_uri": "https://localhost:8080/"
        },
        "id": "f6ae25e2",
        "outputId": "4785c6eb-7983-4acd-f3e0-189fe7a19a98"
      },
      "outputs": [
        {
          "output_type": "execute_result",
          "data": {
            "text/plain": [
              "[1,\n",
              " 14,\n",
              " 22,\n",
              " 16,\n",
              " 43,\n",
              " 530,\n",
              " 973,\n",
              " 1622,\n",
              " 1385,\n",
              " 65,\n",
              " 458,\n",
              " 4468,\n",
              " 66,\n",
              " 3941,\n",
              " 4,\n",
              " 173,\n",
              " 36,\n",
              " 256,\n",
              " 5,\n",
              " 25,\n",
              " 100,\n",
              " 43,\n",
              " 838,\n",
              " 112,\n",
              " 50,\n",
              " 670,\n",
              " 2,\n",
              " 9,\n",
              " 35,\n",
              " 480,\n",
              " 284,\n",
              " 5,\n",
              " 150,\n",
              " 4,\n",
              " 172,\n",
              " 112,\n",
              " 167,\n",
              " 2,\n",
              " 336,\n",
              " 385,\n",
              " 39,\n",
              " 4,\n",
              " 172,\n",
              " 4536,\n",
              " 1111,\n",
              " 17,\n",
              " 546,\n",
              " 38,\n",
              " 13,\n",
              " 447,\n",
              " 4,\n",
              " 192,\n",
              " 50,\n",
              " 16,\n",
              " 6,\n",
              " 147,\n",
              " 2025,\n",
              " 19,\n",
              " 14,\n",
              " 22,\n",
              " 4,\n",
              " 1920,\n",
              " 4613,\n",
              " 469,\n",
              " 4,\n",
              " 22,\n",
              " 71,\n",
              " 87,\n",
              " 12,\n",
              " 16,\n",
              " 43,\n",
              " 530,\n",
              " 38,\n",
              " 76,\n",
              " 15,\n",
              " 13,\n",
              " 1247,\n",
              " 4,\n",
              " 22,\n",
              " 17,\n",
              " 515,\n",
              " 17,\n",
              " 12,\n",
              " 16,\n",
              " 626,\n",
              " 18,\n",
              " 2,\n",
              " 5,\n",
              " 62,\n",
              " 386,\n",
              " 12,\n",
              " 8,\n",
              " 316,\n",
              " 8,\n",
              " 106,\n",
              " 5,\n",
              " 4,\n",
              " 2223,\n",
              " 5244,\n",
              " 16,\n",
              " 480,\n",
              " 66,\n",
              " 3785,\n",
              " 33,\n",
              " 4,\n",
              " 130,\n",
              " 12,\n",
              " 16,\n",
              " 38,\n",
              " 619,\n",
              " 5,\n",
              " 25,\n",
              " 124,\n",
              " 51,\n",
              " 36,\n",
              " 135,\n",
              " 48,\n",
              " 25,\n",
              " 1415,\n",
              " 33,\n",
              " 6,\n",
              " 22,\n",
              " 12,\n",
              " 215,\n",
              " 28,\n",
              " 77,\n",
              " 52,\n",
              " 5,\n",
              " 14,\n",
              " 407,\n",
              " 16,\n",
              " 82,\n",
              " 2,\n",
              " 8,\n",
              " 4,\n",
              " 107,\n",
              " 117,\n",
              " 5952,\n",
              " 15,\n",
              " 256,\n",
              " 4,\n",
              " 2,\n",
              " 7,\n",
              " 3766,\n",
              " 5,\n",
              " 723,\n",
              " 36,\n",
              " 71,\n",
              " 43,\n",
              " 530,\n",
              " 476,\n",
              " 26,\n",
              " 400,\n",
              " 317,\n",
              " 46,\n",
              " 7,\n",
              " 4,\n",
              " 2,\n",
              " 1029,\n",
              " 13,\n",
              " 104,\n",
              " 88,\n",
              " 4,\n",
              " 381,\n",
              " 15,\n",
              " 297,\n",
              " 98,\n",
              " 32,\n",
              " 2071,\n",
              " 56,\n",
              " 26,\n",
              " 141,\n",
              " 6,\n",
              " 194,\n",
              " 7486,\n",
              " 18,\n",
              " 4,\n",
              " 226,\n",
              " 22,\n",
              " 21,\n",
              " 134,\n",
              " 476,\n",
              " 26,\n",
              " 480,\n",
              " 5,\n",
              " 144,\n",
              " 30,\n",
              " 5535,\n",
              " 18,\n",
              " 51,\n",
              " 36,\n",
              " 28,\n",
              " 224,\n",
              " 92,\n",
              " 25,\n",
              " 104,\n",
              " 4,\n",
              " 226,\n",
              " 65,\n",
              " 16,\n",
              " 38,\n",
              " 1334,\n",
              " 88,\n",
              " 12,\n",
              " 16,\n",
              " 283,\n",
              " 5,\n",
              " 16,\n",
              " 4472,\n",
              " 113,\n",
              " 103,\n",
              " 32,\n",
              " 15,\n",
              " 16,\n",
              " 5345,\n",
              " 19,\n",
              " 178,\n",
              " 32]"
            ]
          },
          "metadata": {},
          "execution_count": 2
        }
      ],
      "source": [
        "train_data[0]"
      ]
    },
    {
      "cell_type": "code",
      "execution_count": 3,
      "id": "3a869568",
      "metadata": {
        "execution": {
          "iopub.execute_input": "2022-11-28T21:10:50.212363Z",
          "iopub.status.busy": "2022-11-28T21:10:50.211284Z",
          "iopub.status.idle": "2022-11-28T21:10:50.217737Z",
          "shell.execute_reply": "2022-11-28T21:10:50.216786Z"
        },
        "papermill": {
          "duration": 0.018224,
          "end_time": "2022-11-28T21:10:50.220036",
          "exception": false,
          "start_time": "2022-11-28T21:10:50.201812",
          "status": "completed"
        },
        "tags": [],
        "colab": {
          "base_uri": "https://localhost:8080/"
        },
        "id": "3a869568",
        "outputId": "97fe4307-7b14-45dd-a8d3-98bb00f990b4"
      },
      "outputs": [
        {
          "output_type": "execute_result",
          "data": {
            "text/plain": [
              "1"
            ]
          },
          "metadata": {},
          "execution_count": 3
        }
      ],
      "source": [
        "train_labels[0]"
      ]
    },
    {
      "cell_type": "code",
      "execution_count": 4,
      "id": "48dea556",
      "metadata": {
        "execution": {
          "iopub.execute_input": "2022-11-28T21:10:50.254898Z",
          "iopub.status.busy": "2022-11-28T21:10:50.254099Z",
          "iopub.status.idle": "2022-11-28T21:10:50.397921Z",
          "shell.execute_reply": "2022-11-28T21:10:50.396887Z"
        },
        "papermill": {
          "duration": 0.155367,
          "end_time": "2022-11-28T21:10:50.400176",
          "exception": false,
          "start_time": "2022-11-28T21:10:50.244809",
          "status": "completed"
        },
        "tags": [],
        "colab": {
          "base_uri": "https://localhost:8080/"
        },
        "id": "48dea556",
        "outputId": "f10ae0aa-5196-4f6d-b969-6ac627936fbf"
      },
      "outputs": [
        {
          "output_type": "execute_result",
          "data": {
            "text/plain": [
              "9999"
            ]
          },
          "metadata": {},
          "execution_count": 4
        }
      ],
      "source": [
        "max([max(sequence) for sequence in train_data])"
      ]
    },
    {
      "cell_type": "code",
      "execution_count": 5,
      "id": "df8d24f9",
      "metadata": {
        "execution": {
          "iopub.execute_input": "2022-11-28T21:10:50.422341Z",
          "iopub.status.busy": "2022-11-28T21:10:50.420802Z",
          "iopub.status.idle": "2022-11-28T21:10:50.654230Z",
          "shell.execute_reply": "2022-11-28T21:10:50.652685Z"
        },
        "papermill": {
          "duration": 0.247366,
          "end_time": "2022-11-28T21:10:50.657607",
          "exception": false,
          "start_time": "2022-11-28T21:10:50.410241",
          "status": "completed"
        },
        "tags": [],
        "id": "df8d24f9",
        "colab": {
          "base_uri": "https://localhost:8080/"
        },
        "outputId": "a27e1a42-63a2-4eba-98b0-509e5abc7de6"
      },
      "outputs": [
        {
          "output_type": "stream",
          "name": "stdout",
          "text": [
            "Downloading data from https://storage.googleapis.com/tensorflow/tf-keras-datasets/imdb_word_index.json\n",
            "1641221/1641221 [==============================] - 0s 0us/step\n"
          ]
        }
      ],
      "source": [
        "# Let's quickly decode a review\n",
        "\n",
        "# step 1: load the dictionary mappings from word to integer index\n",
        "word_index = imdb.get_word_index()\n",
        "\n",
        "# step 2: reverse word index to map integer indexes to their respective words\n",
        "reverse_word_index = dict([(value, key) for (key, value) in word_index.items()])\n",
        "\n",
        "# Step 3: decode the review, mapping integer indices to words\n",
        "'''Decodes the review. Note that the indices are offset by 3 \n",
        "        because 0, 1, and 2 are reserved indices for “padding,” “start of sequence,” and “unknown.”'''\n",
        "decoded_review = ' '.join([reverse_word_index.get(i-3, '?') for i in train_data[0]])\n"
      ]
    },
    {
      "cell_type": "code",
      "execution_count": 6,
      "id": "c92ad295",
      "metadata": {
        "execution": {
          "iopub.execute_input": "2022-11-28T21:10:50.678153Z",
          "iopub.status.busy": "2022-11-28T21:10:50.677653Z",
          "iopub.status.idle": "2022-11-28T21:10:50.685948Z",
          "shell.execute_reply": "2022-11-28T21:10:50.684515Z"
        },
        "papermill": {
          "duration": 0.022602,
          "end_time": "2022-11-28T21:10:50.688844",
          "exception": false,
          "start_time": "2022-11-28T21:10:50.666242",
          "status": "completed"
        },
        "tags": [],
        "colab": {
          "base_uri": "https://localhost:8080/",
          "height": 105
        },
        "id": "c92ad295",
        "outputId": "ee2516a5-dc9e-461c-a607-589ff915273c"
      },
      "outputs": [
        {
          "output_type": "execute_result",
          "data": {
            "text/plain": [
              "\"? this film was just brilliant casting location scenery story direction everyone's really suited the part they played and you could just imagine being there robert ? is an amazing actor and now the same being director ? father came from the same scottish island as myself so i loved the fact there was a real connection with this film the witty remarks throughout the film were great it was just brilliant so much that i bought the film as soon as it was released for ? and would recommend it to everyone to watch and the fly fishing was amazing really cried at the end it was so sad and you know what they say if you cry at a film it must have been good and this definitely was also ? to the two little boy's that played the ? of norman and paul they were just brilliant children are often left out of the ? list i think because the stars that play them all grown up are such a big profile for the whole film but these children are amazing and should be praised for what they have done don't you think the whole story was so lovely because it was true and was someone's life after all that was shared with us all\""
            ],
            "application/vnd.google.colaboratory.intrinsic+json": {
              "type": "string"
            }
          },
          "metadata": {},
          "execution_count": 6
        }
      ],
      "source": [
        "decoded_review"
      ]
    },
    {
      "cell_type": "code",
      "execution_count": 7,
      "id": "17b97d51",
      "metadata": {
        "execution": {
          "iopub.execute_input": "2022-11-28T21:10:50.724539Z",
          "iopub.status.busy": "2022-11-28T21:10:50.723536Z",
          "iopub.status.idle": "2022-11-28T21:10:52.551256Z",
          "shell.execute_reply": "2022-11-28T21:10:52.550269Z"
        },
        "papermill": {
          "duration": 1.8406,
          "end_time": "2022-11-28T21:10:52.554150",
          "exception": false,
          "start_time": "2022-11-28T21:10:50.713550",
          "status": "completed"
        },
        "tags": [],
        "id": "17b97d51"
      },
      "outputs": [],
      "source": [
        "#Encoding the integer sequences into a binary matrix\n",
        "'''Explaination: I first created 2D matrix of shape(number of examples,10000)\n",
        "        then I looped over each word of each example, if it exist put 1 in its place\n",
        "        if not just leave it as 0\n",
        "        ITS JUST ONE HOT ENCODER'''\n",
        "import numpy as np\n",
        "def vectorize_sequences(sequences, dimension=10000):\n",
        "    results = np.zeros((len(sequences), dimension))    # Creates an all zero matrix of shape (len(sequences),10K)\n",
        "    for i,sequence in enumerate(sequences):\n",
        "        results[i,sequence] = 1                        # Sets specific indices of results[i] to 1s\n",
        "    return results\n",
        "\n",
        "# Vectorize training Data\n",
        "X_train = vectorize_sequences(train_data)\n",
        "\n",
        "# Vectorize testing Data\n",
        "X_test = vectorize_sequences(test_data)"
      ]
    },
    {
      "cell_type": "code",
      "execution_count": 8,
      "id": "cec85266",
      "metadata": {
        "execution": {
          "iopub.execute_input": "2022-11-28T21:10:52.573658Z",
          "iopub.status.busy": "2022-11-28T21:10:52.573214Z",
          "iopub.status.idle": "2022-11-28T21:10:52.580724Z",
          "shell.execute_reply": "2022-11-28T21:10:52.579556Z"
        },
        "papermill": {
          "duration": 0.020086,
          "end_time": "2022-11-28T21:10:52.583021",
          "exception": false,
          "start_time": "2022-11-28T21:10:52.562935",
          "status": "completed"
        },
        "tags": [],
        "colab": {
          "base_uri": "https://localhost:8080/"
        },
        "id": "cec85266",
        "outputId": "b5717ccc-74e6-4f2a-be19-6f3b5c3fe324"
      },
      "outputs": [
        {
          "output_type": "execute_result",
          "data": {
            "text/plain": [
              "(25000, 10000)"
            ]
          },
          "metadata": {},
          "execution_count": 8
        }
      ],
      "source": [
        "X_train.shape"
      ]
    },
    {
      "cell_type": "code",
      "execution_count": 9,
      "id": "ca99d94a",
      "metadata": {
        "execution": {
          "iopub.execute_input": "2022-11-28T21:10:52.603497Z",
          "iopub.status.busy": "2022-11-28T21:10:52.603068Z",
          "iopub.status.idle": "2022-11-28T21:10:52.609690Z",
          "shell.execute_reply": "2022-11-28T21:10:52.607847Z"
        },
        "papermill": {
          "duration": 0.021139,
          "end_time": "2022-11-28T21:10:52.613208",
          "exception": false,
          "start_time": "2022-11-28T21:10:52.592069",
          "status": "completed"
        },
        "tags": [],
        "id": "ca99d94a"
      },
      "outputs": [],
      "source": [
        "#vectorize labels\n",
        "y_train = np.asarray(train_labels).astype('float32')\n",
        "y_test  = np.asarray(test_labels).astype('float32')"
      ]
    },
    {
      "cell_type": "code",
      "execution_count": 10,
      "id": "66173f0e",
      "metadata": {
        "execution": {
          "iopub.execute_input": "2022-11-28T21:10:52.633241Z",
          "iopub.status.busy": "2022-11-28T21:10:52.632758Z",
          "iopub.status.idle": "2022-11-28T21:10:52.750769Z",
          "shell.execute_reply": "2022-11-28T21:10:52.749691Z"
        },
        "papermill": {
          "duration": 0.130795,
          "end_time": "2022-11-28T21:10:52.753004",
          "exception": false,
          "start_time": "2022-11-28T21:10:52.622209",
          "status": "completed"
        },
        "tags": [],
        "id": "66173f0e"
      },
      "outputs": [],
      "source": [
        "from tensorflow.keras import models\n",
        "from tensorflow.keras import layers\n",
        "\n",
        "model = models.Sequential()\n",
        "model.add(layers.Dense(16, activation='relu', input_shape=(10000,)))\n",
        "model.add(layers.Dense(16, activation='relu'))\n",
        "model.add(layers.Dense(1, activation='sigmoid'))"
      ]
    },
    {
      "cell_type": "markdown",
      "id": "6f51aaf6",
      "metadata": {
        "papermill": {
          "duration": 0.008731,
          "end_time": "2022-11-28T21:10:52.770822",
          "exception": false,
          "start_time": "2022-11-28T21:10:52.762091",
          "status": "completed"
        },
        "tags": [],
        "id": "6f51aaf6"
      },
      "source": [
        "## Compiling the model"
      ]
    },
    {
      "cell_type": "code",
      "execution_count": 11,
      "id": "dba838d1",
      "metadata": {
        "execution": {
          "iopub.execute_input": "2022-11-28T21:10:52.792551Z",
          "iopub.status.busy": "2022-11-28T21:10:52.790931Z",
          "iopub.status.idle": "2022-11-28T21:10:52.808581Z",
          "shell.execute_reply": "2022-11-28T21:10:52.806879Z"
        },
        "papermill": {
          "duration": 0.031492,
          "end_time": "2022-11-28T21:10:52.811546",
          "exception": false,
          "start_time": "2022-11-28T21:10:52.780054",
          "status": "completed"
        },
        "tags": [],
        "id": "dba838d1"
      },
      "outputs": [],
      "source": [
        "from tensorflow.keras import optimizers\n",
        "from tensorflow.keras import losses\n",
        "from tensorflow.keras import metrics\n",
        "\n",
        "model.compile(optimizer=optimizers.RMSprop(learning_rate=0.001),\n",
        "              loss = losses.binary_crossentropy,\n",
        "              metrics = [metrics.binary_accuracy])"
      ]
    },
    {
      "cell_type": "code",
      "execution_count": 12,
      "id": "fdd2c0c3",
      "metadata": {
        "execution": {
          "iopub.execute_input": "2022-11-28T21:10:52.849286Z",
          "iopub.status.busy": "2022-11-28T21:10:52.848838Z",
          "iopub.status.idle": "2022-11-28T21:10:52.854952Z",
          "shell.execute_reply": "2022-11-28T21:10:52.853216Z"
        },
        "papermill": {
          "duration": 0.018871,
          "end_time": "2022-11-28T21:10:52.857122",
          "exception": false,
          "start_time": "2022-11-28T21:10:52.838251",
          "status": "completed"
        },
        "tags": [],
        "id": "fdd2c0c3"
      },
      "outputs": [],
      "source": [
        "# Input for Validation\n",
        "X_val = X_train[:10000]\n",
        "partial_X_train = X_train[10000:]\n",
        "\n",
        "# Labels for validation\n",
        "y_val = y_train[:10000]\n",
        "partial_y_train = y_train[10000:]"
      ]
    },
    {
      "cell_type": "code",
      "execution_count": 13,
      "id": "ac9c259c",
      "metadata": {
        "execution": {
          "iopub.execute_input": "2022-11-28T21:10:52.878235Z",
          "iopub.status.busy": "2022-11-28T21:10:52.877086Z",
          "iopub.status.idle": "2022-11-28T21:11:05.566562Z",
          "shell.execute_reply": "2022-11-28T21:11:05.564393Z"
        },
        "papermill": {
          "duration": 12.703428,
          "end_time": "2022-11-28T21:11:05.570099",
          "exception": false,
          "start_time": "2022-11-28T21:10:52.866671",
          "status": "completed"
        },
        "tags": [],
        "colab": {
          "base_uri": "https://localhost:8080/"
        },
        "id": "ac9c259c",
        "outputId": "ba2e4b51-3b87-415a-b208-28af28dc5c32"
      },
      "outputs": [
        {
          "output_type": "stream",
          "name": "stdout",
          "text": [
            "Epoch 1/20\n",
            "30/30 [==============================] - 4s 95ms/step - loss: 0.5164 - binary_accuracy: 0.7616 - val_loss: 0.3747 - val_binary_accuracy: 0.8678\n",
            "Epoch 2/20\n",
            "30/30 [==============================] - 3s 115ms/step - loss: 0.3083 - binary_accuracy: 0.8957 - val_loss: 0.3011 - val_binary_accuracy: 0.8897\n",
            "Epoch 3/20\n",
            "30/30 [==============================] - 2s 82ms/step - loss: 0.2301 - binary_accuracy: 0.9231 - val_loss: 0.2901 - val_binary_accuracy: 0.8870\n",
            "Epoch 4/20\n",
            "30/30 [==============================] - 2s 56ms/step - loss: 0.1805 - binary_accuracy: 0.9404 - val_loss: 0.2751 - val_binary_accuracy: 0.8887\n",
            "Epoch 5/20\n",
            "30/30 [==============================] - 2s 57ms/step - loss: 0.1499 - binary_accuracy: 0.9523 - val_loss: 0.3372 - val_binary_accuracy: 0.8677\n",
            "Epoch 6/20\n",
            "30/30 [==============================] - 2s 58ms/step - loss: 0.1244 - binary_accuracy: 0.9621 - val_loss: 0.3008 - val_binary_accuracy: 0.8811\n",
            "Epoch 7/20\n",
            "30/30 [==============================] - 2s 56ms/step - loss: 0.1082 - binary_accuracy: 0.9657 - val_loss: 0.3113 - val_binary_accuracy: 0.8838\n",
            "Epoch 8/20\n",
            "30/30 [==============================] - 2s 64ms/step - loss: 0.0867 - binary_accuracy: 0.9765 - val_loss: 0.3208 - val_binary_accuracy: 0.8816\n",
            "Epoch 9/20\n",
            "30/30 [==============================] - 2s 73ms/step - loss: 0.0752 - binary_accuracy: 0.9795 - val_loss: 0.3695 - val_binary_accuracy: 0.8731\n",
            "Epoch 10/20\n",
            "30/30 [==============================] - 2s 57ms/step - loss: 0.0639 - binary_accuracy: 0.9831 - val_loss: 0.3903 - val_binary_accuracy: 0.8712\n",
            "Epoch 11/20\n",
            "30/30 [==============================] - 1s 47ms/step - loss: 0.0543 - binary_accuracy: 0.9867 - val_loss: 0.3907 - val_binary_accuracy: 0.8771\n",
            "Epoch 12/20\n",
            "30/30 [==============================] - 1s 48ms/step - loss: 0.0427 - binary_accuracy: 0.9904 - val_loss: 0.4147 - val_binary_accuracy: 0.8721\n",
            "Epoch 13/20\n",
            "30/30 [==============================] - 2s 56ms/step - loss: 0.0397 - binary_accuracy: 0.9914 - val_loss: 0.4269 - val_binary_accuracy: 0.8741\n",
            "Epoch 14/20\n",
            "30/30 [==============================] - 2s 56ms/step - loss: 0.0334 - binary_accuracy: 0.9924 - val_loss: 0.4412 - val_binary_accuracy: 0.8748\n",
            "Epoch 15/20\n",
            "30/30 [==============================] - 2s 57ms/step - loss: 0.0271 - binary_accuracy: 0.9945 - val_loss: 0.4634 - val_binary_accuracy: 0.8740\n",
            "Epoch 16/20\n",
            "30/30 [==============================] - 2s 76ms/step - loss: 0.0194 - binary_accuracy: 0.9973 - val_loss: 0.4907 - val_binary_accuracy: 0.8724\n",
            "Epoch 17/20\n",
            "30/30 [==============================] - 2s 65ms/step - loss: 0.0205 - binary_accuracy: 0.9963 - val_loss: 0.5083 - val_binary_accuracy: 0.8729\n",
            "Epoch 18/20\n",
            "30/30 [==============================] - 2s 57ms/step - loss: 0.0175 - binary_accuracy: 0.9973 - val_loss: 0.5409 - val_binary_accuracy: 0.8697\n",
            "Epoch 19/20\n",
            "30/30 [==============================] - 2s 57ms/step - loss: 0.0128 - binary_accuracy: 0.9985 - val_loss: 0.5494 - val_binary_accuracy: 0.8722\n",
            "Epoch 20/20\n",
            "30/30 [==============================] - 2s 57ms/step - loss: 0.0156 - binary_accuracy: 0.9964 - val_loss: 0.5689 - val_binary_accuracy: 0.8726\n"
          ]
        }
      ],
      "source": [
        "history = model.fit(partial_X_train,\n",
        "                   partial_y_train,\n",
        "                   epochs=20,\n",
        "                   batch_size=512,\n",
        "                   validation_data=(X_val, y_val))"
      ]
    },
    {
      "cell_type": "code",
      "execution_count": 14,
      "id": "958b3b6e",
      "metadata": {
        "execution": {
          "iopub.execute_input": "2022-11-28T21:11:05.644679Z",
          "iopub.status.busy": "2022-11-28T21:11:05.644224Z",
          "iopub.status.idle": "2022-11-28T21:11:05.652077Z",
          "shell.execute_reply": "2022-11-28T21:11:05.650613Z"
        },
        "papermill": {
          "duration": 0.030318,
          "end_time": "2022-11-28T21:11:05.655027",
          "exception": false,
          "start_time": "2022-11-28T21:11:05.624709",
          "status": "completed"
        },
        "tags": [],
        "colab": {
          "base_uri": "https://localhost:8080/"
        },
        "id": "958b3b6e",
        "outputId": "a9f474c8-8f9c-4bfd-fcd2-6ea315a713e7"
      },
      "outputs": [
        {
          "output_type": "execute_result",
          "data": {
            "text/plain": [
              "dict_keys(['loss', 'binary_accuracy', 'val_loss', 'val_binary_accuracy'])"
            ]
          },
          "metadata": {},
          "execution_count": 14
        }
      ],
      "source": [
        "history_dict = history.history\n",
        "history_dict.keys()"
      ]
    },
    {
      "cell_type": "code",
      "execution_count": 15,
      "id": "8484b1c9",
      "metadata": {
        "execution": {
          "iopub.execute_input": "2022-11-28T21:11:05.729628Z",
          "iopub.status.busy": "2022-11-28T21:11:05.728746Z",
          "iopub.status.idle": "2022-11-28T21:11:05.734663Z",
          "shell.execute_reply": "2022-11-28T21:11:05.733946Z"
        },
        "papermill": {
          "duration": 0.027421,
          "end_time": "2022-11-28T21:11:05.736509",
          "exception": false,
          "start_time": "2022-11-28T21:11:05.709088",
          "status": "completed"
        },
        "tags": [],
        "id": "8484b1c9"
      },
      "outputs": [],
      "source": [
        "import matplotlib.pyplot as plt\n",
        "%matplotlib inline"
      ]
    },
    {
      "cell_type": "code",
      "execution_count": 16,
      "id": "cdcb5cd0",
      "metadata": {
        "execution": {
          "iopub.execute_input": "2022-11-28T21:11:05.775036Z",
          "iopub.status.busy": "2022-11-28T21:11:05.773616Z",
          "iopub.status.idle": "2022-11-28T21:11:05.976303Z",
          "shell.execute_reply": "2022-11-28T21:11:05.975156Z"
        },
        "papermill": {
          "duration": 0.224046,
          "end_time": "2022-11-28T21:11:05.978473",
          "exception": false,
          "start_time": "2022-11-28T21:11:05.754427",
          "status": "completed"
        },
        "tags": [],
        "colab": {
          "base_uri": "https://localhost:8080/",
          "height": 472
        },
        "id": "cdcb5cd0",
        "outputId": "d07f92e3-c8cb-4c97-8dae-fc77823aebe6"
      },
      "outputs": [
        {
          "output_type": "display_data",
          "data": {
            "text/plain": [
              "<Figure size 640x480 with 1 Axes>"
            ],
            "image/png": "[encoded data removed]"
          },
          "metadata": {}
        }
      ],
      "source": [
        "# Plotting losses\n",
        "loss_values = history_dict['loss']\n",
        "val_loss_values = history_dict['val_loss']\n",
        "\n",
        "epochs = range(1, len(loss_values) + 1)\n",
        "\n",
        "plt.plot(epochs, loss_values, 'bo', label=\"Training Loss\")\n",
        "plt.plot(epochs, val_loss_values, 'b', label=\"Validation Loss\")\n",
        "\n",
        "plt.title('Training and Validation Loss')\n",
        "plt.xlabel('Epochs')\n",
        "plt.ylabel('Loss Value')\n",
        "plt.legend()\n",
        "\n",
        "plt.show()"
      ]
    },
    {
      "cell_type": "code",
      "execution_count": 17,
      "id": "7820941c",
      "metadata": {
        "execution": {
          "iopub.execute_input": "2022-11-28T21:11:06.057040Z",
          "iopub.status.busy": "2022-11-28T21:11:06.055842Z",
          "iopub.status.idle": "2022-11-28T21:11:06.217399Z",
          "shell.execute_reply": "2022-11-28T21:11:06.216623Z"
        },
        "papermill": {
          "duration": 0.184414,
          "end_time": "2022-11-28T21:11:06.220129",
          "exception": false,
          "start_time": "2022-11-28T21:11:06.035715",
          "status": "completed"
        },
        "tags": [],
        "colab": {
          "base_uri": "https://localhost:8080/",
          "height": 472
        },
        "id": "7820941c",
        "outputId": "72b9454f-2fb0-4cc5-862b-c0f886aabbf1"
      },
      "outputs": [
        {
          "output_type": "display_data",
          "data": {
            "text/plain": [
              "<Figure size 640x480 with 1 Axes>"
            ],
            "image/png": "[encoded data removed]"
          },
          "metadata": {}
        }
      ],
      "source": [
        "plt.clf() #Clears the figure \n",
        "acc_values = history_dict['binary_accuracy'] \n",
        "val_acc_values = history_dict['val_binary_accuracy'] \n",
        "plt.plot(epochs, acc_values, 'bo', label='Training acc') \n",
        "plt.plot(epochs, val_acc_values, 'b', label='Validation acc') \n",
        "plt.title('Training and validation accuracy') \n",
        "plt.xlabel('Epochs') \n",
        "plt.ylabel('Loss') \n",
        "plt.legend() \n",
        "plt.show()"
      ]
    },
    {
      "cell_type": "code",
      "execution_count": 18,
      "id": "cbf2883f",
      "metadata": {
        "execution": {
          "iopub.execute_input": "2022-11-28T21:11:06.300493Z",
          "iopub.status.busy": "2022-11-28T21:11:06.299752Z",
          "iopub.status.idle": "2022-11-28T21:11:11.302734Z",
          "shell.execute_reply": "2022-11-28T21:11:11.301865Z"
        },
        "papermill": {
          "duration": 5.025919,
          "end_time": "2022-11-28T21:11:11.304543",
          "exception": false,
          "start_time": "2022-11-28T21:11:06.278624",
          "status": "completed"
        },
        "tags": [],
        "colab": {
          "base_uri": "https://localhost:8080/"
        },
        "id": "cbf2883f",
        "outputId": "720637d4-a149-4643-d507-a79a91c9dd14"
      },
      "outputs": [
        {
          "output_type": "stream",
          "name": "stdout",
          "text": [
            "Epoch 1/4\n",
            "49/49 [==============================] - 3s 37ms/step - loss: 0.4883 - accuracy: 0.8075\n",
            "Epoch 2/4\n",
            "49/49 [==============================] - 2s 36ms/step - loss: 0.2871 - accuracy: 0.9017\n",
            "Epoch 3/4\n",
            "49/49 [==============================] - 2s 36ms/step - loss: 0.2217 - accuracy: 0.9204\n",
            "Epoch 4/4\n",
            "49/49 [==============================] - 2s 35ms/step - loss: 0.1844 - accuracy: 0.9354\n"
          ]
        },
        {
          "output_type": "execute_result",
          "data": {
            "text/plain": [
              "<keras.callbacks.History at 0x7f2c36b59fc0>"
            ]
          },
          "metadata": {},
          "execution_count": 18
        }
      ],
      "source": [
        "model = models.Sequential() \n",
        "model.add(layers.Dense(16, activation='relu', input_shape=(10000,))) \n",
        "model.add(layers.Dense(16, activation='relu')) \n",
        "model.add(layers.Dense(1, activation='sigmoid')) \n",
        "model.compile(optimizer='rmsprop', loss='binary_crossentropy', metrics=['accuracy']) \n",
        "model.fit(X_train, y_train, epochs=4, batch_size=512) \n"
      ]
    },
    {
      "cell_type": "code",
      "execution_count": 19,
      "id": "f94b6ce8",
      "metadata": {
        "execution": {
          "iopub.execute_input": "2022-11-28T21:11:11.352341Z",
          "iopub.status.busy": "2022-11-28T21:11:11.351309Z",
          "iopub.status.idle": "2022-11-28T21:11:14.169391Z",
          "shell.execute_reply": "2022-11-28T21:11:14.167796Z"
        },
        "papermill": {
          "duration": 2.84575,
          "end_time": "2022-11-28T21:11:14.172560",
          "exception": false,
          "start_time": "2022-11-28T21:11:11.326810",
          "status": "completed"
        },
        "tags": [],
        "colab": {
          "base_uri": "https://localhost:8080/"
        },
        "id": "f94b6ce8",
        "outputId": "4e9f0345-01fb-4c74-bd04-6fdb1b86fe97"
      },
      "outputs": [
        {
          "output_type": "stream",
          "name": "stdout",
          "text": [
            "782/782 [==============================] - 3s 3ms/step - loss: 0.3018 - accuracy: 0.8783\n"
          ]
        }
      ],
      "source": [
        "results = model.evaluate(X_test, y_test)"
      ]
    },
    {
      "cell_type": "code",
      "execution_count": 20,
      "id": "6be62178",
      "metadata": {
        "execution": {
          "iopub.execute_input": "2022-11-28T21:11:14.272251Z",
          "iopub.status.busy": "2022-11-28T21:11:14.271692Z",
          "iopub.status.idle": "2022-11-28T21:11:16.350254Z",
          "shell.execute_reply": "2022-11-28T21:11:16.349377Z"
        },
        "papermill": {
          "duration": 2.107809,
          "end_time": "2022-11-28T21:11:16.352919",
          "exception": false,
          "start_time": "2022-11-28T21:11:14.245110",
          "status": "completed"
        },
        "tags": [],
        "colab": {
          "base_uri": "https://localhost:8080/"
        },
        "id": "6be62178",
        "outputId": "ae018abf-2c3e-4b48-ec7a-8a9a0b69384d"
      },
      "outputs": [
        {
          "output_type": "stream",
          "name": "stdout",
          "text": [
            "782/782 [==============================] - 4s 4ms/step\n"
          ]
        }
      ],
      "source": [
        "# Making Predictions for testing data\n",
        "np.set_printoptions(suppress=True)\n",
        "result = model.predict(X_test)"
      ]
    },
    {
      "cell_type": "code",
      "execution_count": 21,
      "id": "94a6c01c",
      "metadata": {
        "execution": {
          "iopub.execute_input": "2022-11-28T21:11:16.403409Z",
          "iopub.status.busy": "2022-11-28T21:11:16.402782Z",
          "iopub.status.idle": "2022-11-28T21:11:16.408341Z",
          "shell.execute_reply": "2022-11-28T21:11:16.407618Z"
        },
        "papermill": {
          "duration": 0.033812,
          "end_time": "2022-11-28T21:11:16.411119",
          "exception": false,
          "start_time": "2022-11-28T21:11:16.377307",
          "status": "completed"
        },
        "tags": [],
        "colab": {
          "base_uri": "https://localhost:8080/"
        },
        "id": "94a6c01c",
        "outputId": "38c51158-ad58-491a-b62a-2b92a4d4924a"
      },
      "outputs": [
        {
          "output_type": "execute_result",
          "data": {
            "text/plain": [
              "array([[0.17785381],\n",
              "       [0.9993256 ],\n",
              "       [0.46870577],\n",
              "       ...,\n",
              "       [0.07871134],\n",
              "       [0.06246889],\n",
              "       [0.42730987]], dtype=float32)"
            ]
          },
          "metadata": {},
          "execution_count": 21
        }
      ],
      "source": [
        "result"
      ]
    },
    {
      "cell_type": "code",
      "execution_count": 22,
      "id": "f996af66",
      "metadata": {
        "execution": {
          "iopub.execute_input": "2022-11-28T21:11:16.462609Z",
          "iopub.status.busy": "2022-11-28T21:11:16.461914Z",
          "iopub.status.idle": "2022-11-28T21:11:16.542442Z",
          "shell.execute_reply": "2022-11-28T21:11:16.541224Z"
        },
        "papermill": {
          "duration": 0.109559,
          "end_time": "2022-11-28T21:11:16.545473",
          "exception": false,
          "start_time": "2022-11-28T21:11:16.435914",
          "status": "completed"
        },
        "tags": [],
        "id": "f996af66"
      },
      "outputs": [],
      "source": [
        "y_pred = np.zeros(len(result))\n",
        "for i, score in enumerate(result):\n",
        "    y_pred[i] = np.asarray([round(x) for x in score])"
      ]
    },
    {
      "cell_type": "code",
      "execution_count": 23,
      "id": "b7af87ea",
      "metadata": {
        "execution": {
          "iopub.execute_input": "2022-11-28T21:11:16.597460Z",
          "iopub.status.busy": "2022-11-28T21:11:16.596738Z",
          "iopub.status.idle": "2022-11-28T21:11:16.606095Z",
          "shell.execute_reply": "2022-11-28T21:11:16.604446Z"
        },
        "papermill": {
          "duration": 0.037335,
          "end_time": "2022-11-28T21:11:16.608442",
          "exception": false,
          "start_time": "2022-11-28T21:11:16.571107",
          "status": "completed"
        },
        "tags": [],
        "colab": {
          "base_uri": "https://localhost:8080/"
        },
        "id": "b7af87ea",
        "outputId": "e4667014-7c61-42fe-d199-ed6588d3b92c"
      },
      "outputs": [
        {
          "output_type": "execute_result",
          "data": {
            "text/plain": [
              "array([0., 1., 0., ..., 0., 0., 0.])"
            ]
          },
          "metadata": {},
          "execution_count": 23
        }
      ],
      "source": [
        "y_pred"
      ]
    },
    {
      "cell_type": "code",
      "execution_count": 24,
      "id": "e642d5c5",
      "metadata": {
        "execution": {
          "iopub.execute_input": "2022-11-28T21:11:16.658880Z",
          "iopub.status.busy": "2022-11-28T21:11:16.657675Z",
          "iopub.status.idle": "2022-11-28T21:11:16.665634Z",
          "shell.execute_reply": "2022-11-28T21:11:16.664044Z"
        },
        "papermill": {
          "duration": 0.036782,
          "end_time": "2022-11-28T21:11:16.669041",
          "exception": false,
          "start_time": "2022-11-28T21:11:16.632259",
          "status": "completed"
        },
        "tags": [],
        "id": "e642d5c5"
      },
      "outputs": [],
      "source": [
        "from tensorflow.keras.metrics import mean_absolute_error\n",
        "mae = mean_absolute_error = (y_pred, y_test)"
      ]
    },
    {
      "cell_type": "code",
      "execution_count": 25,
      "id": "3e0957d2",
      "metadata": {
        "execution": {
          "iopub.execute_input": "2022-11-28T21:11:16.719752Z",
          "iopub.status.busy": "2022-11-28T21:11:16.719300Z",
          "iopub.status.idle": "2022-11-28T21:11:16.727060Z",
          "shell.execute_reply": "2022-11-28T21:11:16.725863Z"
        },
        "papermill": {
          "duration": 0.035811,
          "end_time": "2022-11-28T21:11:16.729156",
          "exception": false,
          "start_time": "2022-11-28T21:11:16.693345",
          "status": "completed"
        },
        "tags": [],
        "colab": {
          "base_uri": "https://localhost:8080/"
        },
        "id": "3e0957d2",
        "outputId": "94641e35-e324-4781-ee95-6d81ebab37ed"
      },
      "outputs": [
        {
          "output_type": "execute_result",
          "data": {
            "text/plain": [
              "(array([0., 1., 0., ..., 0., 0., 0.]),\n",
              " array([0., 1., 1., ..., 0., 0., 0.], dtype=float32))"
            ]
          },
          "metadata": {},
          "execution_count": 25
        }
      ],
      "source": [
        "# Error\n",
        "mae"
      ]
    },
    {
      "cell_type": "code",
      "source": [],
      "metadata": {
        "id": "keeJycUYPXnZ"
      },
      "id": "keeJycUYPXnZ",
      "execution_count": 25,
      "outputs": []
    }
  ],
  "metadata": {
    "kernelspec": {
      "display_name": "Python 3",
      "language": "python",
      "name": "python3"
    },
    "language_info": {
      "codemirror_mode": {
        "name": "ipython",
        "version": 3
      },
      "file_extension": ".py",
      "mimetype": "text/x-python",
      "name": "python",
      "nbconvert_exporter": "python",
      "pygments_lexer": "ipython3",
      "version": "3.7.12"
    },
    "papermill": {
      "default_parameters": {},
      "duration": 50.24988,
      "end_time": "2022-11-28T21:11:19.846964",
      "environment_variables": {},
      "exception": null,
      "input_path": "__notebook__.ipynb",
      "output_path": "__notebook__.ipynb",
      "parameters": {},
      "start_time": "2022-11-28T21:10:29.597084",
      "version": "2.3.4"
    },
    "colab": {
      "provenance": []
    }
  },
  "nbformat": 4,
  "nbformat_minor": 5
}